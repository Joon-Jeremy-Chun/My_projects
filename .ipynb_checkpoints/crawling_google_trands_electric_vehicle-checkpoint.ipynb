{
 "cells": [
  {
   "cell_type": "markdown",
   "id": "8c19fecc",
   "metadata": {},
   "source": [
    "## 패키지"
   ]
  },
  {
   "cell_type": "code",
   "execution_count": 1,
   "id": "562ecc18",
   "metadata": {},
   "outputs": [],
   "source": [
    "from selenium import webdriver\n",
    "from bs4 import BeautifulSoup\n",
    "import requests\n",
    "import time\n",
    "import pandas as pd\n"
   ]
  },
  {
   "cell_type": "markdown",
   "id": "a7553abd",
   "metadata": {},
   "source": [
    "## url & chromedriver"
   ]
  },
  {
   "cell_type": "code",
   "execution_count": 2,
   "id": "1d41b966",
   "metadata": {},
   "outputs": [],
   "source": [
    "time.sleep(2)\n",
    "browser = webdriver.Chrome(\"C://Myexam//chromedriver//chromedriver.exe\")\n",
    "url = \"https://trends.google.com/trends/\"\n",
    "browser.get(url)"
   ]
  },
  {
   "cell_type": "markdown",
   "id": "434bd19f",
   "metadata": {},
   "source": [
    "## 기간 - 12개월 , 전기차(주제)"
   ]
  },
  {
   "cell_type": "code",
   "execution_count": 5,
   "id": "a538c9ac",
   "metadata": {},
   "outputs": [
    {
     "name": "stdout",
     "output_type": "stream",
     "text": [
      "https://trends.google.com/trends/explore?q=%2Fm%2F01pmdg\n"
     ]
    }
   ],
   "source": [
    "time.sleep(3)\n",
    "words_subject = ['%2Fm%2F01pmdg']\n",
    "finding = url+'explore?'+'q='+words_subject[0]\n",
    "print(finding)\n",
    "browser.get(finding)"
   ]
  },
  {
   "cell_type": "code",
   "execution_count": 11,
   "id": "541d41ac",
   "metadata": {},
   "outputs": [
    {
     "name": "stdout",
     "output_type": "stream",
     "text": [
      "1\n",
      "2\n",
      "3\n",
      "4\n",
      "5\n",
      "6\n",
      "7\n",
      "8\n",
      "9\n",
      "10\n",
      "11\n",
      "    ranking Country Name Search ratio\n",
      "0         1         뉴질랜드          100\n",
      "1         2           인도           75\n",
      "2         3           영국           75\n",
      "3         4           네팔           72\n",
      "4         5         싱가포르           70\n",
      "5         6          캐나다           68\n",
      "6         7         아일랜드           63\n",
      "7         8         노르웨이           63\n",
      "8         9           미국           51\n",
      "9        10          스웨덴           48\n",
      "10       11          폴란드           44\n",
      "11       12      오스트레일리아           44\n",
      "12       13           홍콩           36\n",
      "13       14       아랍에미리트           32\n",
      "14       15        크로아티아           32\n",
      "15       16        슬로베니아           31\n",
      "16       17          덴마크           27\n",
      "17       18         파키스탄           27\n",
      "18       19         대한민국           24\n",
      "19       20         네덜란드           20\n",
      "20       21          스페인           20\n",
      "21       22           태국           18\n",
      "22       23         포르투갈           18\n",
      "23       24         이스라엘           17\n",
      "24       25          벨기에           13\n",
      "25       26          베트남           13\n",
      "26       27        말레이시아           13\n",
      "27       28          핀란드           12\n",
      "28       29          스위스           12\n",
      "29       30          프랑스           12\n",
      "30       31           터키           10\n",
      "31       32        남아프리카           10\n",
      "32       33        방글라데시           10\n",
      "33       34         에콰도르            8\n",
      "34       35        오스트리아            8\n",
      "35       36          필리핀            8\n",
      "36       37           독일            8\n",
      "37       38          그리스            8\n",
      "38       39         루마니아            6\n",
      "39       40           대만            6\n",
      "40       41          이집트            6\n",
      "41       42         콜롬비아            6\n",
      "42       43        우크라이나            6\n",
      "43       44      사우디아라비아            6\n",
      "44       45        인도네시아            5\n",
      "45       46         이탈리아            5\n",
      "46       47           칠레            5\n",
      "47       48          러시아            5\n",
      "48       49          멕시코            3\n",
      "49       50        아르헨티나            3\n",
      "50       51          브라질            3\n",
      "51       52           일본            1\n"
     ]
    }
   ],
   "source": [
    "a = 0\n",
    "b = 11\n",
    "c = 0\n",
    "country_name_ratio_data = []\n",
    "for i in range(b) :\n",
    "    a = i + 1\n",
    "    print(a)\n",
    "    time.sleep(3)\n",
    "    html = browser.page_source\n",
    "    soup = BeautifulSoup(html, 'html.parser')\n",
    "    country_ranking = soup.select( 'div.label-text')\n",
    "    country_ratio = soup.select( 'div.progress-value')\n",
    "    \n",
    "    for i in range(min(len(country_ratio) , len(country_ranking))) :\n",
    "        a1 = country_ranking[i]\n",
    "        a2 = country_ratio[i]\n",
    "        b1 = a1.text.strip()\n",
    "        b2 = a2.text.strip()\n",
    "        c  = c + 1\n",
    "        data = [c,b1,b2]\n",
    "        country_name_ratio_data.append(data)\n",
    "    df = pd.DataFrame(country_name_ratio_data)\n",
    "    df.columns = ['ranking','Country Name', 'Search ratio']\n",
    "    time.sleep(3)\n",
    "    browser.find_element_by_css_selector('.material-icons.arrow-right-active').click()\n",
    "print (df)\n",
    "df.to_excel('c://My_data//electric_vehicle_serach_rank.xlsx', index = False)"
   ]
  },
  {
   "cell_type": "code",
   "execution_count": null,
   "id": "4224d6fd",
   "metadata": {},
   "outputs": [],
   "source": []
  }
 ],
 "metadata": {
  "kernelspec": {
   "display_name": "Python 3",
   "language": "python",
   "name": "python3"
  },
  "language_info": {
   "codemirror_mode": {
    "name": "ipython",
    "version": 3
   },
   "file_extension": ".py",
   "mimetype": "text/x-python",
   "name": "python",
   "nbconvert_exporter": "python",
   "pygments_lexer": "ipython3",
   "version": "3.8.8"
  }
 },
 "nbformat": 4,
 "nbformat_minor": 5
}
