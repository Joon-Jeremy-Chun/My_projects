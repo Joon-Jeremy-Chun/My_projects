{
 "cells": [
  {
   "cell_type": "code",
   "execution_count": null,
   "id": "76349116",
   "metadata": {},
   "outputs": [],
   "source": [
    "# 패키지 "
   ]
  },
  {
   "cell_type": "code",
   "execution_count": 5,
   "id": "280c727c",
   "metadata": {},
   "outputs": [],
   "source": [
    "from selenium import webdriver\n",
    "from bs4 import BeautifulSoup\n",
    "import time\n",
    "import pandas as pd"
   ]
  },
  {
   "cell_type": "code",
   "execution_count": 6,
   "id": "97935b88",
   "metadata": {},
   "outputs": [],
   "source": [
    "#chromedriver & url 설정"
   ]
  },
  {
   "cell_type": "code",
   "execution_count": 7,
   "id": "4022179b",
   "metadata": {},
   "outputs": [],
   "source": [
    "browser = webdriver.Chrome(\"C://Myexam//chromedriver//chromedriver.exe\")\n",
    "url = \"https://trends.google.com/trends\"\n",
    "browser.get(url)"
   ]
  },
  {
   "cell_type": "code",
   "execution_count": null,
   "id": "4d88e041",
   "metadata": {},
   "outputs": [],
   "source": []
  }
 ],
 "metadata": {
  "kernelspec": {
   "display_name": "Python 3",
   "language": "python",
   "name": "python3"
  },
  "language_info": {
   "codemirror_mode": {
    "name": "ipython",
    "version": 3
   },
   "file_extension": ".py",
   "mimetype": "text/x-python",
   "name": "python",
   "nbconvert_exporter": "python",
   "pygments_lexer": "ipython3",
   "version": "3.8.8"
  }
 },
 "nbformat": 4,
 "nbformat_minor": 5
}
