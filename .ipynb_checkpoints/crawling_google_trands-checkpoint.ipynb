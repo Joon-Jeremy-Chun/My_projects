{
 "cells": [
  {
   "cell_type": "markdown",
   "id": "805816dc",
   "metadata": {},
   "source": [
    "패키지 "
   ]
  },
  {
   "cell_type": "code",
   "execution_count": 4,
   "id": "280c727c",
   "metadata": {},
   "outputs": [],
   "source": [
    "from selenium import webdriver\n",
    "from bs4 import BeautifulSoup\n",
    "import requests\n",
    "import time\n",
    "import pandas as pd\n",
    "\n"
   ]
  },
  {
   "cell_type": "markdown",
   "id": "1048be05",
   "metadata": {},
   "source": [
    "chromedriver & url 설정"
   ]
  },
  {
   "cell_type": "code",
   "execution_count": 2,
   "id": "c0922897",
   "metadata": {},
   "outputs": [],
   "source": [
    "headers = {'User-Agent' : 'Mozilla/5.0 (Windows NT 10.0; Win64; x64)AppleWebKit/537.36 (KHTML, like Gecko) Chrome/73.0.3683.86 Safari/537.36'}"
   ]
  },
  {
   "cell_type": "code",
   "execution_count": 5,
   "id": "4022179b",
   "metadata": {},
   "outputs": [],
   "source": [
    "time.sleep(2)\n",
    "browser = webdriver.Chrome(\"C://Myexam//chromedriver//chromedriver.exe\")\n",
    "url = \"https://trends.google.com/trends/\"\n",
    "browser.get(url)"
   ]
  },
  {
   "cell_type": "markdown",
   "id": "b32fcded",
   "metadata": {},
   "source": [
    "검색어 (주소 찿기)\n",
    " /explore?\n",
    "\n",
    " 검색어을 단어로만 하면 한글과 영어 혹은 각나라의 자가 언어차이가 있기때문에 데이터가 안되고 단어를 주제로 검색하려면서 그 섹터를 데이터를 가저온다\\\n",
    " 전기자동차(주제): q=%2Fm%2F01pmdg\\\n",
    " 전기자동차 충전소(주제): q=%2Fm%2F03bxwvx\n",
    "\n",
    "geo=KR은 한국의 지역별 /explore?geo=KR&q=%2Fm%2F03bxwvx\\\n",
    "세계는 없이 진행\n",
    "\n",
    "기간 정하기\\ \n",
    "기간 설정이 없으면, 지난 12개월이 기본으로\\ \n",
    "지난 5년 /explore?date=today%205-y&geo=KR&q=%2Fm%2F03bxwvx\\\n",
    "date=today%205-y\n",
    "\n",
    "순서는 기간&국가&섹터"
   ]
  },
  {
   "cell_type": "markdown",
   "id": "b5b7697a",
   "metadata": {},
   "source": [
    "## 일단 첫번째꺼만"
   ]
  },
  {
   "cell_type": "code",
   "execution_count": 3,
   "id": "dba054c1",
   "metadata": {
    "scrolled": true
   },
   "outputs": [
    {
     "name": "stdout",
     "output_type": "stream",
     "text": [
      "https://www.investing.com/indices/major-indicesexplore?q=%2Fm%2F01pmdg\n"
     ]
    }
   ],
   "source": [
    "time.sleep(1)\n",
    "words_subject = ['%2Fm%2F01pmdg']\n",
    "finding = url+'explore?'+'q='+words_subject[0]\n",
    "\n",
    "print(finding)\n"
   ]
  },
  {
   "cell_type": "code",
   "execution_count": 4,
   "id": "7a3a9c8f",
   "metadata": {},
   "outputs": [],
   "source": [
    "browser.get(finding)"
   ]
  },
  {
   "cell_type": "code",
   "execution_count": null,
   "id": "a3a52a07",
   "metadata": {},
   "outputs": [],
   "source": []
  }
 ],
 "metadata": {
  "kernelspec": {
   "display_name": "Python 3",
   "language": "python",
   "name": "python3"
  },
  "language_info": {
   "codemirror_mode": {
    "name": "ipython",
    "version": 3
   },
   "file_extension": ".py",
   "mimetype": "text/x-python",
   "name": "python",
   "nbconvert_exporter": "python",
   "pygments_lexer": "ipython3",
   "version": "3.8.8"
  }
 },
 "nbformat": 4,
 "nbformat_minor": 5
}
