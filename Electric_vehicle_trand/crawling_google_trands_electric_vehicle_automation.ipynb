{
 "cells": [
  {
   "cell_type": "markdown",
   "id": "557a4282",
   "metadata": {},
   "source": [
    "# 아직 미완성"
   ]
  },
  {
   "cell_type": "markdown",
   "id": "33a184df",
   "metadata": {},
   "source": [
    "## 패키지"
   ]
  },
  {
   "cell_type": "code",
   "execution_count": 1,
   "id": "9bca3021",
   "metadata": {},
   "outputs": [],
   "source": [
    "from selenium import webdriver\n",
    "from bs4 import BeautifulSoup\n",
    "import requests\n",
    "import time\n",
    "import pandas as pd\n"
   ]
  },
  {
   "cell_type": "markdown",
   "id": "e001a5bc",
   "metadata": {},
   "source": [
    "## url & chromedriver"
   ]
  },
  {
   "cell_type": "code",
   "execution_count": 2,
   "id": "c36b8823",
   "metadata": {},
   "outputs": [],
   "source": [
    "browser = webdriver.Chrome(\"C://Myexam//chromedriver//chromedriver.exe\")\n",
    "url = \"https://trends.google.com/trends/\"\n",
    "browser.get(url)"
   ]
  },
  {
   "cell_type": "markdown",
   "id": "4178337e",
   "metadata": {},
   "source": [
    "## 기간 변수 & 주제 변수 \n",
    "시간변수가 없을때는 12개월\\\n",
    "나라변수가 없을때는 전세계"
   ]
  },
  {
   "cell_type": "code",
   "execution_count": 3,
   "id": "7ef2ddee",
   "metadata": {},
   "outputs": [
    {
     "name": "stdout",
     "output_type": "stream",
     "text": [
      "https://trends.google.com/trends/explore?date=&q=%2Fm%2F01pmdg\n"
     ]
    }
   ],
   "source": [
    "time.sleep(3)\n",
    "words_subject = ['%2Fm%2F01pmdg']\n",
    "date_duration = ['','2020-09-06%202021-09-06','2019-09-06%202020-09-06','2018-09-06%202019-09-06','2017-09-06%202018-09-06','2016-09-06%202017-09-06','2015-09-06%202016-09-06','2014-09-06%202015-09-06','2013-09-06%202014-09-06','2012-09-06%2020213-09-06','2011-09-06%2020212-09-06','2010-09-06%2020211-09-06','today%205-y']\n",
    "finding = url+'explore?'+'date='+date_duration[0]+'&'+'q='+words_subject[0]\n",
    "print(finding)\n",
    "browser.get(finding)\n",
    "    "
   ]
  },
  {
   "cell_type": "markdown",
   "id": "f241de5b",
   "metadata": {},
   "source": [
    "## 저장파일 이름 지정"
   ]
  },
  {
   "cell_type": "code",
   "execution_count": 4,
   "id": "c9dd1787",
   "metadata": {},
   "outputs": [
    {
     "name": "stdout",
     "output_type": "stream",
     "text": [
      "총나라 수 =  53\n",
      "크롤링 해야하는 페이지수 =  11\n",
      "1\n",
      "2\n",
      "3\n",
      "4\n",
      "5\n",
      "6\n",
      "7\n",
      "8\n",
      "9\n",
      "10\n",
      "11\n",
      "저장완료 : \n"
     ]
    }
   ],
   "source": [
    "html = browser.page_source\n",
    "soup = BeautifulSoup(html, 'html.parser')\n",
    "\n",
    "Nstr = browser.find_element_by_css_selector('.pagination').text.strip()\n",
    "Nstr[0:2]\n",
    "PN = int(Nstr[0:2])\n",
    "print('총나라 수 = ',PN)\n",
    "\n",
    "if PN % 5 == 0 :\n",
    "    b = PN // 5\n",
    "else :\n",
    "    b = (PN // 5)  + 1\n",
    "print('크롤링 해야하는 페이지수 = ',b)\n",
    "\n",
    "a = 0\n",
    "b \n",
    "c = 0\n",
    "country_name_ratio_data = []\n",
    "for i in range(b) :\n",
    "    a = i + 1\n",
    "    print(a)\n",
    "    time.sleep(3)\n",
    "    html = browser.page_source\n",
    "    soup = BeautifulSoup(html, 'html.parser')\n",
    "    country_name = soup.select( 'div.label-text')\n",
    "    country_ratio = soup.select( 'div.progress-value')\n",
    "    \n",
    "    for i in range(min(len(country_ratio) , len(country_name))) :\n",
    "        a1 = country_name[i]\n",
    "        a2 = country_ratio[i]\n",
    "        b1 = a1.text.strip()\n",
    "        b2 = a2.text.strip()\n",
    "        c  = c + 1\n",
    "        data = [c,b1,b2]\n",
    "        country_name_ratio_data.append(data)\n",
    "    df = pd.DataFrame(country_name_ratio_data)\n",
    "    df.columns = ['ranking','Country Name', 'Search ratio']\n",
    "    time.sleep(3)\n",
    "    browser.find_element_by_css_selector('.material-icons.arrow-right-active').click()\n",
    "df\n",
    "df.to_excel('c://My_data//electric_vehicle_serach_rank {0}.dataframe xlsx', index = False)\n",
    "print('저장완료 : '+ finding)"
   ]
  },
  {
   "cell_type": "code",
   "execution_count": 5,
   "id": "bc8cc8fc",
   "metadata": {},
   "outputs": [
    {
     "name": "stdout",
     "output_type": "stream",
     "text": [
      "저장완료 : https://trends.google.com/trends/explore?date=&q=%2Fm%2F01pmdg\n"
     ]
    }
   ],
   "source": [
    "print('저장완료 : '+ finding)"
   ]
  },
  {
   "cell_type": "code",
   "execution_count": 9,
   "id": "2f8f88a2",
   "metadata": {
    "scrolled": false
   },
   "outputs": [
    {
     "name": "stdout",
     "output_type": "stream",
     "text": [
      "저장완료 : 2020-09-06%202021-09-06\n"
     ]
    }
   ],
   "source": [
    "print('저장완료 : '+ date_duration[1])"
   ]
  },
  {
   "cell_type": "markdown",
   "id": "ff184c6b",
   "metadata": {},
   "source": [
    "## 통합"
   ]
  },
  {
   "cell_type": "code",
   "execution_count": 8,
   "id": "1baa2d42",
   "metadata": {},
   "outputs": [
    {
     "name": "stdout",
     "output_type": "stream",
     "text": [
      "https://trends.google.com/trends/explore?date=2020-09-06%202021-09-06&q=%2Fm%2F01pmdg\n"
     ]
    },
    {
     "ename": "NoSuchElementException",
     "evalue": "Message: no such element: Unable to locate element: {\"method\":\"css selector\",\"selector\":\".pagination\"}\n  (Session info: chrome=92.0.4515.159)\n",
     "output_type": "error",
     "traceback": [
      "\u001b[1;31m---------------------------------------------------------------------------\u001b[0m",
      "\u001b[1;31mNoSuchElementException\u001b[0m                    Traceback (most recent call last)",
      "\u001b[1;32m<ipython-input-8-2538aea249ca>\u001b[0m in \u001b[0;36m<module>\u001b[1;34m\u001b[0m\n\u001b[0;32m     11\u001b[0m     \u001b[0msoup\u001b[0m \u001b[1;33m=\u001b[0m \u001b[0mBeautifulSoup\u001b[0m\u001b[1;33m(\u001b[0m\u001b[0mhtml\u001b[0m\u001b[1;33m,\u001b[0m \u001b[1;34m'html.parser'\u001b[0m\u001b[1;33m)\u001b[0m\u001b[1;33m\u001b[0m\u001b[1;33m\u001b[0m\u001b[0m\n\u001b[0;32m     12\u001b[0m \u001b[1;33m\u001b[0m\u001b[0m\n\u001b[1;32m---> 13\u001b[1;33m     \u001b[0mNstr\u001b[0m \u001b[1;33m=\u001b[0m \u001b[0mbrowser\u001b[0m\u001b[1;33m.\u001b[0m\u001b[0mfind_element_by_css_selector\u001b[0m\u001b[1;33m(\u001b[0m\u001b[1;34m'.pagination'\u001b[0m\u001b[1;33m)\u001b[0m\u001b[1;33m.\u001b[0m\u001b[0mtext\u001b[0m\u001b[1;33m.\u001b[0m\u001b[0mstrip\u001b[0m\u001b[1;33m(\u001b[0m\u001b[1;33m)\u001b[0m\u001b[1;33m\u001b[0m\u001b[1;33m\u001b[0m\u001b[0m\n\u001b[0m\u001b[0;32m     14\u001b[0m     \u001b[0mNstr\u001b[0m\u001b[1;33m[\u001b[0m\u001b[1;36m0\u001b[0m\u001b[1;33m:\u001b[0m\u001b[1;36m2\u001b[0m\u001b[1;33m]\u001b[0m\u001b[1;33m\u001b[0m\u001b[1;33m\u001b[0m\u001b[0m\n\u001b[0;32m     15\u001b[0m     \u001b[0mPN\u001b[0m \u001b[1;33m=\u001b[0m \u001b[0mint\u001b[0m\u001b[1;33m(\u001b[0m\u001b[0mNstr\u001b[0m\u001b[1;33m[\u001b[0m\u001b[1;36m0\u001b[0m\u001b[1;33m:\u001b[0m\u001b[1;36m2\u001b[0m\u001b[1;33m]\u001b[0m\u001b[1;33m)\u001b[0m\u001b[1;33m\u001b[0m\u001b[1;33m\u001b[0m\u001b[0m\n",
      "\u001b[1;32mC:\\ProgramData\\Anaconda3\\lib\\site-packages\\selenium\\webdriver\\remote\\webdriver.py\u001b[0m in \u001b[0;36mfind_element_by_css_selector\u001b[1;34m(self, css_selector)\u001b[0m\n\u001b[0;32m    596\u001b[0m             \u001b[0melement\u001b[0m \u001b[1;33m=\u001b[0m \u001b[0mdriver\u001b[0m\u001b[1;33m.\u001b[0m\u001b[0mfind_element_by_css_selector\u001b[0m\u001b[1;33m(\u001b[0m\u001b[1;34m'#foo'\u001b[0m\u001b[1;33m)\u001b[0m\u001b[1;33m\u001b[0m\u001b[1;33m\u001b[0m\u001b[0m\n\u001b[0;32m    597\u001b[0m         \"\"\"\n\u001b[1;32m--> 598\u001b[1;33m         \u001b[1;32mreturn\u001b[0m \u001b[0mself\u001b[0m\u001b[1;33m.\u001b[0m\u001b[0mfind_element\u001b[0m\u001b[1;33m(\u001b[0m\u001b[0mby\u001b[0m\u001b[1;33m=\u001b[0m\u001b[0mBy\u001b[0m\u001b[1;33m.\u001b[0m\u001b[0mCSS_SELECTOR\u001b[0m\u001b[1;33m,\u001b[0m \u001b[0mvalue\u001b[0m\u001b[1;33m=\u001b[0m\u001b[0mcss_selector\u001b[0m\u001b[1;33m)\u001b[0m\u001b[1;33m\u001b[0m\u001b[1;33m\u001b[0m\u001b[0m\n\u001b[0m\u001b[0;32m    599\u001b[0m \u001b[1;33m\u001b[0m\u001b[0m\n\u001b[0;32m    600\u001b[0m     \u001b[1;32mdef\u001b[0m \u001b[0mfind_elements_by_css_selector\u001b[0m\u001b[1;33m(\u001b[0m\u001b[0mself\u001b[0m\u001b[1;33m,\u001b[0m \u001b[0mcss_selector\u001b[0m\u001b[1;33m)\u001b[0m\u001b[1;33m:\u001b[0m\u001b[1;33m\u001b[0m\u001b[1;33m\u001b[0m\u001b[0m\n",
      "\u001b[1;32mC:\\ProgramData\\Anaconda3\\lib\\site-packages\\selenium\\webdriver\\remote\\webdriver.py\u001b[0m in \u001b[0;36mfind_element\u001b[1;34m(self, by, value)\u001b[0m\n\u001b[0;32m    974\u001b[0m                 \u001b[0mby\u001b[0m \u001b[1;33m=\u001b[0m \u001b[0mBy\u001b[0m\u001b[1;33m.\u001b[0m\u001b[0mCSS_SELECTOR\u001b[0m\u001b[1;33m\u001b[0m\u001b[1;33m\u001b[0m\u001b[0m\n\u001b[0;32m    975\u001b[0m                 \u001b[0mvalue\u001b[0m \u001b[1;33m=\u001b[0m \u001b[1;34m'[name=\"%s\"]'\u001b[0m \u001b[1;33m%\u001b[0m \u001b[0mvalue\u001b[0m\u001b[1;33m\u001b[0m\u001b[1;33m\u001b[0m\u001b[0m\n\u001b[1;32m--> 976\u001b[1;33m         return self.execute(Command.FIND_ELEMENT, {\n\u001b[0m\u001b[0;32m    977\u001b[0m             \u001b[1;34m'using'\u001b[0m\u001b[1;33m:\u001b[0m \u001b[0mby\u001b[0m\u001b[1;33m,\u001b[0m\u001b[1;33m\u001b[0m\u001b[1;33m\u001b[0m\u001b[0m\n\u001b[0;32m    978\u001b[0m             'value': value})['value']\n",
      "\u001b[1;32mC:\\ProgramData\\Anaconda3\\lib\\site-packages\\selenium\\webdriver\\remote\\webdriver.py\u001b[0m in \u001b[0;36mexecute\u001b[1;34m(self, driver_command, params)\u001b[0m\n\u001b[0;32m    319\u001b[0m         \u001b[0mresponse\u001b[0m \u001b[1;33m=\u001b[0m \u001b[0mself\u001b[0m\u001b[1;33m.\u001b[0m\u001b[0mcommand_executor\u001b[0m\u001b[1;33m.\u001b[0m\u001b[0mexecute\u001b[0m\u001b[1;33m(\u001b[0m\u001b[0mdriver_command\u001b[0m\u001b[1;33m,\u001b[0m \u001b[0mparams\u001b[0m\u001b[1;33m)\u001b[0m\u001b[1;33m\u001b[0m\u001b[1;33m\u001b[0m\u001b[0m\n\u001b[0;32m    320\u001b[0m         \u001b[1;32mif\u001b[0m \u001b[0mresponse\u001b[0m\u001b[1;33m:\u001b[0m\u001b[1;33m\u001b[0m\u001b[1;33m\u001b[0m\u001b[0m\n\u001b[1;32m--> 321\u001b[1;33m             \u001b[0mself\u001b[0m\u001b[1;33m.\u001b[0m\u001b[0merror_handler\u001b[0m\u001b[1;33m.\u001b[0m\u001b[0mcheck_response\u001b[0m\u001b[1;33m(\u001b[0m\u001b[0mresponse\u001b[0m\u001b[1;33m)\u001b[0m\u001b[1;33m\u001b[0m\u001b[1;33m\u001b[0m\u001b[0m\n\u001b[0m\u001b[0;32m    322\u001b[0m             response['value'] = self._unwrap_value(\n\u001b[0;32m    323\u001b[0m                 response.get('value', None))\n",
      "\u001b[1;32mC:\\ProgramData\\Anaconda3\\lib\\site-packages\\selenium\\webdriver\\remote\\errorhandler.py\u001b[0m in \u001b[0;36mcheck_response\u001b[1;34m(self, response)\u001b[0m\n\u001b[0;32m    240\u001b[0m                 \u001b[0malert_text\u001b[0m \u001b[1;33m=\u001b[0m \u001b[0mvalue\u001b[0m\u001b[1;33m[\u001b[0m\u001b[1;34m'alert'\u001b[0m\u001b[1;33m]\u001b[0m\u001b[1;33m.\u001b[0m\u001b[0mget\u001b[0m\u001b[1;33m(\u001b[0m\u001b[1;34m'text'\u001b[0m\u001b[1;33m)\u001b[0m\u001b[1;33m\u001b[0m\u001b[1;33m\u001b[0m\u001b[0m\n\u001b[0;32m    241\u001b[0m             \u001b[1;32mraise\u001b[0m \u001b[0mexception_class\u001b[0m\u001b[1;33m(\u001b[0m\u001b[0mmessage\u001b[0m\u001b[1;33m,\u001b[0m \u001b[0mscreen\u001b[0m\u001b[1;33m,\u001b[0m \u001b[0mstacktrace\u001b[0m\u001b[1;33m,\u001b[0m \u001b[0malert_text\u001b[0m\u001b[1;33m)\u001b[0m\u001b[1;33m\u001b[0m\u001b[1;33m\u001b[0m\u001b[0m\n\u001b[1;32m--> 242\u001b[1;33m         \u001b[1;32mraise\u001b[0m \u001b[0mexception_class\u001b[0m\u001b[1;33m(\u001b[0m\u001b[0mmessage\u001b[0m\u001b[1;33m,\u001b[0m \u001b[0mscreen\u001b[0m\u001b[1;33m,\u001b[0m \u001b[0mstacktrace\u001b[0m\u001b[1;33m)\u001b[0m\u001b[1;33m\u001b[0m\u001b[1;33m\u001b[0m\u001b[0m\n\u001b[0m\u001b[0;32m    243\u001b[0m \u001b[1;33m\u001b[0m\u001b[0m\n\u001b[0;32m    244\u001b[0m     \u001b[1;32mdef\u001b[0m \u001b[0m_value_or_default\u001b[0m\u001b[1;33m(\u001b[0m\u001b[0mself\u001b[0m\u001b[1;33m,\u001b[0m \u001b[0mobj\u001b[0m\u001b[1;33m,\u001b[0m \u001b[0mkey\u001b[0m\u001b[1;33m,\u001b[0m \u001b[0mdefault\u001b[0m\u001b[1;33m)\u001b[0m\u001b[1;33m:\u001b[0m\u001b[1;33m\u001b[0m\u001b[1;33m\u001b[0m\u001b[0m\n",
      "\u001b[1;31mNoSuchElementException\u001b[0m: Message: no such element: Unable to locate element: {\"method\":\"css selector\",\"selector\":\".pagination\"}\n  (Session info: chrome=92.0.4515.159)\n"
     ]
    }
   ],
   "source": [
    "time.sleep(3)\n",
    "words_subject = ['%2Fm%2F01pmdg']\n",
    "date_duration = ['2020-09-06%202021-09-06','2019-09-06%202020-09-06']\n",
    "for i in range(len(date_duration)) :\n",
    "    time.sleep(4)\n",
    "    finding = url+'explore?'+'date='+date_duration[i]+'&'+'q='+words_subject[0]\n",
    "    print(finding)\n",
    "    browser.get(finding)\n",
    "    \n",
    "    html = browser.page_source\n",
    "    soup = BeautifulSoup(html, 'html.parser')\n",
    "\n",
    "    Nstr = browser.find_element_by_css_selector('.pagination').text.strip()\n",
    "    Nstr[0:2]\n",
    "    PN = int(Nstr[0:2])\n",
    "    print('총나라 수 = ',PN)\n",
    "\n",
    "    if PN % 5 == 0 :\n",
    "        b = PN // 5\n",
    "    else :\n",
    "        b = (PN // 5)  + 1\n",
    "    print('크롤링 해야하는 페이지수 = ',b)\n",
    "    \n",
    "    a = 0\n",
    "    b \n",
    "    c = 0\n",
    "    country_name_ratio_data = []\n",
    "    for i in range(b) :\n",
    "        a = i + 1\n",
    "        print(a)\n",
    "        time.sleep(3)\n",
    "        html = browser.page_source\n",
    "        soup = BeautifulSoup(html, 'html.parser')\n",
    "        country_ranking = soup.select( 'div.label-text')\n",
    "        country_ratio = soup.select( 'div.progress-value')\n",
    "    \n",
    "        for i in range(min(len(country_ratio) , len(country_ranking))) :\n",
    "            a1 = country_ranking[i]\n",
    "            a2 = country_ratio[i]\n",
    "            b1 = a1.text.strip()\n",
    "            b2 = a2.text.strip()\n",
    "            c  = c + 1\n",
    "            data = [c,b1,b2]\n",
    "            country_name_ratio_data.append(data)\n",
    "        df = pd.DataFrame(country_name_ratio_data)\n",
    "        df.columns = ['ranking','Country Name', 'Search ratio']\n",
    "        time.sleep(3)\n",
    "        browser.find_element_by_css_selector('.material-icons.arrow-right-active').click()\n",
    "    df\n",
    "    print (df)\n",
    "df.to_excel('c://My_data//electric_vehicle_serach_rank.xlsx', index = False)"
   ]
  },
  {
   "cell_type": "code",
   "execution_count": null,
   "id": "364f87be",
   "metadata": {},
   "outputs": [],
   "source": []
  }
 ],
 "metadata": {
  "kernelspec": {
   "display_name": "Python 3",
   "language": "python",
   "name": "python3"
  },
  "language_info": {
   "codemirror_mode": {
    "name": "ipython",
    "version": 3
   },
   "file_extension": ".py",
   "mimetype": "text/x-python",
   "name": "python",
   "nbconvert_exporter": "python",
   "pygments_lexer": "ipython3",
   "version": "3.8.8"
  }
 },
 "nbformat": 4,
 "nbformat_minor": 5
}
