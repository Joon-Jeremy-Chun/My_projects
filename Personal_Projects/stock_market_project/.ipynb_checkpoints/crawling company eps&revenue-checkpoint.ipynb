{
 "cells": [
  {
   "cell_type": "markdown",
   "id": "a40d062d",
   "metadata": {},
   "source": [
    "## packages"
   ]
  },
  {
   "cell_type": "code",
   "execution_count": 1,
   "id": "295c7f8c",
   "metadata": {},
   "outputs": [],
   "source": [
    "from selenium import webdriver\n",
    "from bs4 import BeautifulSoup\n",
    "import requests\n",
    "import time\n",
    "import pandas as pd"
   ]
  },
  {
   "cell_type": "markdown",
   "id": "44f63acd",
   "metadata": {},
   "source": [
    "## define the URL and subjects"
   ]
  },
  {
   "cell_type": "code",
   "execution_count": 10,
   "id": "4bf381b9",
   "metadata": {},
   "outputs": [],
   "source": [
    "browser = webdriver.Chrome(\"C:/Myexam/chromedriver/chromedriver.exe\")\n",
    "url = \"https://www.investing.com/\"\n",
    "browser.get(url) "
   ]
  },
  {
   "cell_type": "code",
   "execution_count": 11,
   "id": "5e42351e",
   "metadata": {},
   "outputs": [
    {
     "name": "stdout",
     "output_type": "stream",
     "text": [
      "https://www.investing.com/equities/airbnb-inc-earnings\n",
      "저장이름 = ABNB-earnings.xlsx\n",
      "https://www.investing.com/equities/snowflake-inc-earnings\n",
      "저장이름 = SNOW-earnings.xlsx\n"
     ]
    }
   ],
   "source": [
    "time.sleep(3) \n",
    "search_subject = ['equities/airbnb-inc','equities/snowflake-inc', ] \n",
    "search_subject_abbreviation = ['ABNB','SNOW']\n",
    "search_objective = ['-earnings']\n",
    "\n",
    "for i in range(len(search_subject)) :\n",
    "           \n",
    "    for j in range(len(search_objective)) :\n",
    "        \n",
    "        #페이지 열기\n",
    "        time.sleep(3) \n",
    "        finding = url+search_subject[i]+search_objective[j]\n",
    "        print(finding)\n",
    "        browser.get(finding)\n",
    "        \n",
    "        #크롤링 전처리\n",
    "        html = browser.page_source\n",
    "        soup = BeautifulSoup(html, 'html.parser')\n",
    "        \n",
    "        \n",
    "        \n",
    "        print('저장이름 =', '{0}{1}.xlsx'.format(search_subject_abbreviation[i],search_objective[j]))\n",
    "       \n",
    "       \n",
    "        "
   ]
  },
  {
   "cell_type": "code",
   "execution_count": 47,
   "id": "e447c359",
   "metadata": {},
   "outputs": [],
   "source": [
    "html = browser.page_source\n",
    "soup = BeautifulSoup(html, 'html.parser')"
   ]
  },
  {
   "cell_type": "code",
   "execution_count": 49,
   "id": "c3273d01",
   "metadata": {
    "scrolled": true
   },
   "outputs": [],
   "source": [
    "A = browser.find_element_by_class_name('genTbl.openTbl.ecoCalTbl.earnings.earningsPageTbl')"
   ]
  },
  {
   "cell_type": "code",
   "execution_count": 51,
   "id": "5b2d6c1e",
   "metadata": {
    "scrolled": true
   },
   "outputs": [
    {
     "name": "stdout",
     "output_type": "stream",
     "text": [
      "<selenium.webdriver.remote.webelement.WebElement (session=\"6927b84f710afba82b90c57e45f64aaa\", element=\"3b35f445-41d8-4688-b7bf-53eec82fa1ec\")>\n"
     ]
    }
   ],
   "source": [
    "print(A)"
   ]
  },
  {
   "cell_type": "code",
   "execution_count": 53,
   "id": "10d013a4",
   "metadata": {},
   "outputs": [],
   "source": [
    "tbody = A.find_element_by_tag_name(\"tbody\")"
   ]
  },
  {
   "cell_type": "code",
   "execution_count": 55,
   "id": "6262f6dc",
   "metadata": {},
   "outputs": [
    {
     "ename": "IndexError",
     "evalue": "list index out of range",
     "output_type": "error",
     "traceback": [
      "\u001b[1;31m---------------------------------------------------------------------------\u001b[0m",
      "\u001b[1;31mIndexError\u001b[0m                                Traceback (most recent call last)",
      "\u001b[1;32m<ipython-input-55-fcc50cb9b003>\u001b[0m in \u001b[0;36m<module>\u001b[1;34m\u001b[0m\n\u001b[0;32m      2\u001b[0m \u001b[0mrows\u001b[0m \u001b[1;33m=\u001b[0m \u001b[0mA\u001b[0m\u001b[1;33m.\u001b[0m\u001b[0mfind_elements_by_tag_name\u001b[0m\u001b[1;33m(\u001b[0m\u001b[1;34m\"tr\"\u001b[0m\u001b[1;33m)\u001b[0m\u001b[1;33m\u001b[0m\u001b[1;33m\u001b[0m\u001b[0m\n\u001b[0;32m      3\u001b[0m \u001b[1;32mfor\u001b[0m \u001b[0mindex\u001b[0m\u001b[1;33m,\u001b[0m \u001b[0mvalue\u001b[0m \u001b[1;32min\u001b[0m \u001b[0menumerate\u001b[0m\u001b[1;33m(\u001b[0m\u001b[0mrows\u001b[0m\u001b[1;33m)\u001b[0m\u001b[1;33m:\u001b[0m\u001b[1;33m\u001b[0m\u001b[1;33m\u001b[0m\u001b[0m\n\u001b[1;32m----> 4\u001b[1;33m     \u001b[0mbody\u001b[0m\u001b[1;33m=\u001b[0m\u001b[0mvalue\u001b[0m\u001b[1;33m.\u001b[0m\u001b[0mfind_elements_by_tag_name\u001b[0m\u001b[1;33m(\u001b[0m\u001b[1;34m\"td\"\u001b[0m\u001b[1;33m)\u001b[0m\u001b[1;33m[\u001b[0m\u001b[1;36m0\u001b[0m\u001b[1;33m]\u001b[0m\u001b[1;33m\u001b[0m\u001b[1;33m\u001b[0m\u001b[0m\n\u001b[0m\u001b[0;32m      5\u001b[0m     \u001b[0mprint\u001b[0m\u001b[1;33m(\u001b[0m\u001b[0mbody\u001b[0m\u001b[1;33m.\u001b[0m\u001b[0mtext\u001b[0m\u001b[1;33m)\u001b[0m\u001b[1;33m\u001b[0m\u001b[1;33m\u001b[0m\u001b[0m\n",
      "\u001b[1;31mIndexError\u001b[0m: list index out of range"
     ]
    }
   ],
   "source": [
    "tbody = A.find_element_by_tag_name(\"tbody\")\n",
    "rows = A.find_elements_by_tag_name(\"tr\")\n",
    "for index, value in enumerate(rows):\n",
    "    body=value.find_elements_by_tag_name(\"td\")[0]\n",
    "    print(body.text)"
   ]
  },
  {
   "cell_type": "code",
   "execution_count": 4,
   "id": "41a95623",
   "metadata": {},
   "outputs": [],
   "source": [
    "#  if browser.find_element_by_link_text('Show more') == True :\n",
    "#             browser.find_element_by_css_selector('.showMoreReplies.block').click()\n",
    "#         else :\n",
    "#             pass"
   ]
  },
  {
   "cell_type": "code",
   "execution_count": 5,
   "id": "1957e923",
   "metadata": {
    "scrolled": true
   },
   "outputs": [],
   "source": [
    "# a = 0\n",
    "# while browser.find_element_by_css_selector('.showMoreReplies.block').click() == True :\n",
    "#     a = a +1\n",
    "#     print(a)"
   ]
  },
  {
   "cell_type": "code",
   "execution_count": 6,
   "id": "3cc278ad",
   "metadata": {
    "scrolled": false
   },
   "outputs": [],
   "source": [
    "# a = 0\n",
    "# if a <= 2 :\n",
    "#     a = a + 1\n",
    "#     print(a)\n",
    "#     browser.find_element_by_css_selector('.showMoreReplies.block')"
   ]
  },
  {
   "cell_type": "code",
   "execution_count": 7,
   "id": "8ad1cd08",
   "metadata": {
    "scrolled": false
   },
   "outputs": [],
   "source": [
    "# a = browser.find_element_by_link_text('Show more') \n",
    "# bool(a)"
   ]
  },
  {
   "cell_type": "code",
   "execution_count": 8,
   "id": "2fba0d1e",
   "metadata": {},
   "outputs": [],
   "source": [
    "# a = browser.find_element_by_link_text('Show more') \n",
    "# if a == True :\n",
    "#     browser.find_element_by_css_selector('.showMoreReplies.block').click()\n",
    "# else :\n",
    "#     pass"
   ]
  },
  {
   "cell_type": "code",
   "execution_count": null,
   "id": "3e3922cf",
   "metadata": {},
   "outputs": [],
   "source": []
  }
 ],
 "metadata": {
  "kernelspec": {
   "display_name": "Python 3",
   "language": "python",
   "name": "python3"
  },
  "language_info": {
   "codemirror_mode": {
    "name": "ipython",
    "version": 3
   },
   "file_extension": ".py",
   "mimetype": "text/x-python",
   "name": "python",
   "nbconvert_exporter": "python",
   "pygments_lexer": "ipython3",
   "version": "3.8.8"
  }
 },
 "nbformat": 4,
 "nbformat_minor": 5
}
