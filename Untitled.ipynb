{
 "cells": [
  {
   "cell_type": "markdown",
   "id": "557a4282",
   "metadata": {},
   "source": [
    "# 아직 미완성"
   ]
  },
  {
   "cell_type": "markdown",
   "id": "33a184df",
   "metadata": {},
   "source": [
    "## 패키지"
   ]
  },
  {
   "cell_type": "code",
   "execution_count": 50,
   "id": "9bca3021",
   "metadata": {},
   "outputs": [],
   "source": [
    "from selenium import webdriver\n",
    "from bs4 import BeautifulSoup\n",
    "import requests\n",
    "import time\n",
    "import pandas as pd\n"
   ]
  },
  {
   "cell_type": "markdown",
   "id": "e001a5bc",
   "metadata": {},
   "source": [
    "## url & chromedriver"
   ]
  },
  {
   "cell_type": "code",
   "execution_count": 51,
   "id": "c36b8823",
   "metadata": {},
   "outputs": [],
   "source": [
    "time.sleep(2)\n",
    "browser = webdriver.Chrome(\"C://Myexam//chromedriver//chromedriver.exe\")\n",
    "url = \"https://trends.google.com/trends/\"\n",
    "browser.get(url)"
   ]
  },
  {
   "cell_type": "markdown",
   "id": "4178337e",
   "metadata": {},
   "source": [
    "## 기간 변수 & 주제 변수 "
   ]
  },
  {
   "cell_type": "code",
   "execution_count": 75,
   "id": "7ef2ddee",
   "metadata": {},
   "outputs": [
    {
     "name": "stdout",
     "output_type": "stream",
     "text": [
      "https://trends.google.com/trends/explore?date=2013-09-06%202014-09-06&q=%2Fm%2F01pmdg\n"
     ]
    }
   ],
   "source": [
    "time.sleep(3)\n",
    "words_subject = ['%2Fm%2F01pmdg']\n",
    "date_duration = ['2020-09-06%202021-09-06','2019-09-06%202020-09-06','2018-09-06%202019-09-06','2017-09-06%202018-09-06','2016-09-06%202017-09-06','2015-09-06%202016-09-06','2014-09-06%202015-09-06','2013-09-06%202014-09-06','2012-09-06%2020213-09-06','2011-09-06%2020212-09-06','2010-09-06%2020211-09-06']\n",
    "finding = url+'explore?'+'date='+date_duration[7]+'&'+'q='+words_subject[0]\n",
    "print(finding)\n",
    "browser.get(finding)\n",
    "    "
   ]
  },
  {
   "cell_type": "markdown",
   "id": "f241de5b",
   "metadata": {},
   "source": [
    "## 저장파일 이름 지정"
   ]
  },
  {
   "cell_type": "code",
   "execution_count": 69,
   "id": "c9dd1787",
   "metadata": {},
   "outputs": [
    {
     "name": "stdout",
     "output_type": "stream",
     "text": [
      "1\n",
      "2\n",
      "3\n",
      "4\n",
      "5\n",
      "6\n",
      "7\n",
      "8\n",
      "9\n",
      "10\n",
      "11\n",
      "12\n"
     ]
    }
   ],
   "source": [
    "a = 0\n",
    "b = 12\n",
    "c = 0\n",
    "country_name_ratio_data = []\n",
    "for i in range(b) :\n",
    "    a = i + 1\n",
    "    print(a)\n",
    "    time.sleep(3)\n",
    "    html = browser.page_source\n",
    "    soup = BeautifulSoup(html, 'html.parser')\n",
    "    country_ranking = soup.select( 'div.label-text')\n",
    "    country_ratio = soup.select( 'div.progress-value')\n",
    "    \n",
    "    for i in range(min(len(country_ratio) , len(country_ranking))) :\n",
    "        a1 = country_ranking[i]\n",
    "        a2 = country_ratio[i]\n",
    "        b1 = a1.text.strip()\n",
    "        b2 = a2.text.strip()\n",
    "        c  = c + 1\n",
    "        data = [c,b1,b2]\n",
    "        country_name_ratio_data.append(data)\n",
    "    df = pd.DataFrame(country_name_ratio_data)\n",
    "    df.columns = ['ranking','Country Name', 'Search ratio']\n",
    "    time.sleep(3)\n",
    "    browser.find_element_by_css_selector('.material-icons.arrow-right-active').click()\n",
    "df\n",
    "df.to_excel('c://My_data//electric_vehicle_serach_rank.xlsx', index = False)"
   ]
  },
  {
   "cell_type": "markdown",
   "id": "ff184c6b",
   "metadata": {},
   "source": [
    "## 통합"
   ]
  },
  {
   "cell_type": "code",
   "execution_count": 49,
   "id": "1baa2d42",
   "metadata": {},
   "outputs": [
    {
     "name": "stdout",
     "output_type": "stream",
     "text": [
      "https://trends.google.com/trends/explore?date=2020-09-06%202021-09-06&q=%2Fm%2F01pmdg\n",
      "1\n",
      "2\n",
      "3\n",
      "4\n",
      "5\n",
      "6\n",
      "7\n",
      "8\n",
      "9\n",
      "10\n",
      "11\n",
      "    ranking Country Name Search ratio\n",
      "0         1         뉴질랜드          100\n",
      "1         2           영국           79\n",
      "2         3           인도           79\n",
      "3         4         싱가포르           75\n",
      "4         5          캐나다           71\n",
      "5         6           네팔           67\n",
      "6         7         노르웨이           66\n",
      "7         8         아일랜드           60\n",
      "8         9           미국           53\n",
      "9        10          스웨덴           48\n",
      "10       11      오스트레일리아           46\n",
      "11       12          폴란드           46\n",
      "12       13          카타르           40\n",
      "13       14           홍콩           39\n",
      "14       15        크로아티아           39\n",
      "15       16        슬로베니아           34\n",
      "16       17       아랍에미리트           34\n",
      "17       18          덴마크           31\n",
      "18       19         파키스탄           26\n",
      "19       20         대한민국           25\n",
      "20       21         네덜란드           22\n",
      "21       22          스페인           21\n",
      "22       23           태국           20\n",
      "23       24         포르투갈           19\n",
      "24       25         이스라엘           18\n",
      "25       26          벨기에           15\n",
      "26       27          베트남           14\n",
      "27       28          스위스           14\n",
      "28       29          핀란드           14\n",
      "29       30        말레이시아           14\n",
      "30       31          프랑스           12\n",
      "31       32        방글라데시           10\n",
      "32       33           터키           10\n",
      "33       34        남아프리카           10\n",
      "34       35        오스트리아            9\n",
      "35       36          그리스            9\n",
      "36       37           독일            8\n",
      "37       38          필리핀            8\n",
      "38       39           대만            8\n",
      "39       40      사우디아라비아            7\n",
      "40       41         콜롬비아            7\n",
      "41       42         루마니아            7\n",
      "42       43        우크라이나            6\n",
      "43       44         이탈리아            6\n",
      "44       45          이집트            6\n",
      "45       46        인도네시아            6\n",
      "46       47           칠레            4\n",
      "47       48          러시아            4\n",
      "48       49          멕시코            4\n",
      "49       50        아르헨티나            2\n",
      "50       51          브라질            2\n",
      "51       52           일본            1\n",
      "https://trends.google.com/trends/explore?date=2019-09-06%202020-09-06&q=%2Fm%2F01pmdg\n",
      "1\n"
     ]
    },
    {
     "ename": "ValueError",
     "evalue": "Length mismatch: Expected axis has 0 elements, new values have 3 elements",
     "output_type": "error",
     "traceback": [
      "\u001b[1;31m---------------------------------------------------------------------------\u001b[0m",
      "\u001b[1;31mValueError\u001b[0m                                Traceback (most recent call last)",
      "\u001b[1;32m<ipython-input-49-8ed2c073d9d7>\u001b[0m in \u001b[0;36m<module>\u001b[1;34m\u001b[0m\n\u001b[0;32m     29\u001b[0m             \u001b[0mcountry_name_ratio_data\u001b[0m\u001b[1;33m.\u001b[0m\u001b[0mappend\u001b[0m\u001b[1;33m(\u001b[0m\u001b[0mdata\u001b[0m\u001b[1;33m)\u001b[0m\u001b[1;33m\u001b[0m\u001b[1;33m\u001b[0m\u001b[0m\n\u001b[0;32m     30\u001b[0m         \u001b[0mdf\u001b[0m \u001b[1;33m=\u001b[0m \u001b[0mpd\u001b[0m\u001b[1;33m.\u001b[0m\u001b[0mDataFrame\u001b[0m\u001b[1;33m(\u001b[0m\u001b[0mcountry_name_ratio_data\u001b[0m\u001b[1;33m)\u001b[0m\u001b[1;33m\u001b[0m\u001b[1;33m\u001b[0m\u001b[0m\n\u001b[1;32m---> 31\u001b[1;33m         \u001b[0mdf\u001b[0m\u001b[1;33m.\u001b[0m\u001b[0mcolumns\u001b[0m \u001b[1;33m=\u001b[0m \u001b[1;33m[\u001b[0m\u001b[1;34m'ranking'\u001b[0m\u001b[1;33m,\u001b[0m\u001b[1;34m'Country Name'\u001b[0m\u001b[1;33m,\u001b[0m \u001b[1;34m'Search ratio'\u001b[0m\u001b[1;33m]\u001b[0m\u001b[1;33m\u001b[0m\u001b[1;33m\u001b[0m\u001b[0m\n\u001b[0m\u001b[0;32m     32\u001b[0m         \u001b[0mtime\u001b[0m\u001b[1;33m.\u001b[0m\u001b[0msleep\u001b[0m\u001b[1;33m(\u001b[0m\u001b[1;36m3\u001b[0m\u001b[1;33m)\u001b[0m\u001b[1;33m\u001b[0m\u001b[1;33m\u001b[0m\u001b[0m\n\u001b[0;32m     33\u001b[0m         \u001b[0mbrowser\u001b[0m\u001b[1;33m.\u001b[0m\u001b[0mfind_element_by_css_selector\u001b[0m\u001b[1;33m(\u001b[0m\u001b[1;34m'.material-icons.arrow-right-active'\u001b[0m\u001b[1;33m)\u001b[0m\u001b[1;33m.\u001b[0m\u001b[0mclick\u001b[0m\u001b[1;33m(\u001b[0m\u001b[1;33m)\u001b[0m\u001b[1;33m\u001b[0m\u001b[1;33m\u001b[0m\u001b[0m\n",
      "\u001b[1;32mC:\\ProgramData\\Anaconda3\\lib\\site-packages\\pandas\\core\\generic.py\u001b[0m in \u001b[0;36m__setattr__\u001b[1;34m(self, name, value)\u001b[0m\n\u001b[0;32m   5476\u001b[0m         \u001b[1;32mtry\u001b[0m\u001b[1;33m:\u001b[0m\u001b[1;33m\u001b[0m\u001b[1;33m\u001b[0m\u001b[0m\n\u001b[0;32m   5477\u001b[0m             \u001b[0mobject\u001b[0m\u001b[1;33m.\u001b[0m\u001b[0m__getattribute__\u001b[0m\u001b[1;33m(\u001b[0m\u001b[0mself\u001b[0m\u001b[1;33m,\u001b[0m \u001b[0mname\u001b[0m\u001b[1;33m)\u001b[0m\u001b[1;33m\u001b[0m\u001b[1;33m\u001b[0m\u001b[0m\n\u001b[1;32m-> 5478\u001b[1;33m             \u001b[1;32mreturn\u001b[0m \u001b[0mobject\u001b[0m\u001b[1;33m.\u001b[0m\u001b[0m__setattr__\u001b[0m\u001b[1;33m(\u001b[0m\u001b[0mself\u001b[0m\u001b[1;33m,\u001b[0m \u001b[0mname\u001b[0m\u001b[1;33m,\u001b[0m \u001b[0mvalue\u001b[0m\u001b[1;33m)\u001b[0m\u001b[1;33m\u001b[0m\u001b[1;33m\u001b[0m\u001b[0m\n\u001b[0m\u001b[0;32m   5479\u001b[0m         \u001b[1;32mexcept\u001b[0m \u001b[0mAttributeError\u001b[0m\u001b[1;33m:\u001b[0m\u001b[1;33m\u001b[0m\u001b[1;33m\u001b[0m\u001b[0m\n\u001b[0;32m   5480\u001b[0m             \u001b[1;32mpass\u001b[0m\u001b[1;33m\u001b[0m\u001b[1;33m\u001b[0m\u001b[0m\n",
      "\u001b[1;32mpandas\\_libs\\properties.pyx\u001b[0m in \u001b[0;36mpandas._libs.properties.AxisProperty.__set__\u001b[1;34m()\u001b[0m\n",
      "\u001b[1;32mC:\\ProgramData\\Anaconda3\\lib\\site-packages\\pandas\\core\\generic.py\u001b[0m in \u001b[0;36m_set_axis\u001b[1;34m(self, axis, labels)\u001b[0m\n\u001b[0;32m    668\u001b[0m     \u001b[1;32mdef\u001b[0m \u001b[0m_set_axis\u001b[0m\u001b[1;33m(\u001b[0m\u001b[0mself\u001b[0m\u001b[1;33m,\u001b[0m \u001b[0maxis\u001b[0m\u001b[1;33m:\u001b[0m \u001b[0mint\u001b[0m\u001b[1;33m,\u001b[0m \u001b[0mlabels\u001b[0m\u001b[1;33m:\u001b[0m \u001b[0mIndex\u001b[0m\u001b[1;33m)\u001b[0m \u001b[1;33m->\u001b[0m \u001b[1;32mNone\u001b[0m\u001b[1;33m:\u001b[0m\u001b[1;33m\u001b[0m\u001b[1;33m\u001b[0m\u001b[0m\n\u001b[0;32m    669\u001b[0m         \u001b[0mlabels\u001b[0m \u001b[1;33m=\u001b[0m \u001b[0mensure_index\u001b[0m\u001b[1;33m(\u001b[0m\u001b[0mlabels\u001b[0m\u001b[1;33m)\u001b[0m\u001b[1;33m\u001b[0m\u001b[1;33m\u001b[0m\u001b[0m\n\u001b[1;32m--> 670\u001b[1;33m         \u001b[0mself\u001b[0m\u001b[1;33m.\u001b[0m\u001b[0m_mgr\u001b[0m\u001b[1;33m.\u001b[0m\u001b[0mset_axis\u001b[0m\u001b[1;33m(\u001b[0m\u001b[0maxis\u001b[0m\u001b[1;33m,\u001b[0m \u001b[0mlabels\u001b[0m\u001b[1;33m)\u001b[0m\u001b[1;33m\u001b[0m\u001b[1;33m\u001b[0m\u001b[0m\n\u001b[0m\u001b[0;32m    671\u001b[0m         \u001b[0mself\u001b[0m\u001b[1;33m.\u001b[0m\u001b[0m_clear_item_cache\u001b[0m\u001b[1;33m(\u001b[0m\u001b[1;33m)\u001b[0m\u001b[1;33m\u001b[0m\u001b[1;33m\u001b[0m\u001b[0m\n\u001b[0;32m    672\u001b[0m \u001b[1;33m\u001b[0m\u001b[0m\n",
      "\u001b[1;32mC:\\ProgramData\\Anaconda3\\lib\\site-packages\\pandas\\core\\internals\\managers.py\u001b[0m in \u001b[0;36mset_axis\u001b[1;34m(self, axis, new_labels)\u001b[0m\n\u001b[0;32m    218\u001b[0m \u001b[1;33m\u001b[0m\u001b[0m\n\u001b[0;32m    219\u001b[0m         \u001b[1;32mif\u001b[0m \u001b[0mnew_len\u001b[0m \u001b[1;33m!=\u001b[0m \u001b[0mold_len\u001b[0m\u001b[1;33m:\u001b[0m\u001b[1;33m\u001b[0m\u001b[1;33m\u001b[0m\u001b[0m\n\u001b[1;32m--> 220\u001b[1;33m             raise ValueError(\n\u001b[0m\u001b[0;32m    221\u001b[0m                 \u001b[1;34mf\"Length mismatch: Expected axis has {old_len} elements, new \"\u001b[0m\u001b[1;33m\u001b[0m\u001b[1;33m\u001b[0m\u001b[0m\n\u001b[0;32m    222\u001b[0m                 \u001b[1;34mf\"values have {new_len} elements\"\u001b[0m\u001b[1;33m\u001b[0m\u001b[1;33m\u001b[0m\u001b[0m\n",
      "\u001b[1;31mValueError\u001b[0m: Length mismatch: Expected axis has 0 elements, new values have 3 elements"
     ]
    }
   ],
   "source": [
    "time.sleep(3)\n",
    "words_subject = ['%2Fm%2F01pmdg']\n",
    "date_duration = ['2020-09-06%202021-09-06','2019-09-06%202020-09-06']\n",
    "for i in range(len(date_duration)) :\n",
    "    time.sleep(4)\n",
    "    finding = url+'explore?'+'date='+date_duration[i]+'&'+'q='+words_subject[0]\n",
    "    print(finding)\n",
    "    browser.get(finding)\n",
    "    a = 0\n",
    "    b = 11\n",
    "    c = 0\n",
    "    country_name_ratio_data = []\n",
    "    for i in range(b) :\n",
    "        a = i + 1\n",
    "        print(a)\n",
    "        time.sleep(3)\n",
    "        html = browser.page_source\n",
    "        soup = BeautifulSoup(html, 'html.parser')\n",
    "        country_ranking = soup.select( 'div.label-text')\n",
    "        country_ratio = soup.select( 'div.progress-value')\n",
    "    \n",
    "        for i in range(min(len(country_ratio) , len(country_ranking))) :\n",
    "            a1 = country_ranking[i]\n",
    "            a2 = country_ratio[i]\n",
    "            b1 = a1.text.strip()\n",
    "            b2 = a2.text.strip()\n",
    "            c  = c + 1\n",
    "            data = [c,b1,b2]\n",
    "            country_name_ratio_data.append(data)\n",
    "        df = pd.DataFrame(country_name_ratio_data)\n",
    "        df.columns = ['ranking','Country Name', 'Search ratio']\n",
    "        time.sleep(3)\n",
    "        browser.find_element_by_css_selector('.material-icons.arrow-right-active').click()\n",
    "    df\n",
    "    print (df)\n",
    "df.to_excel('c://My_data//electric_vehicle_serach_rank.xlsx', index = False)"
   ]
  },
  {
   "cell_type": "code",
   "execution_count": null,
   "id": "364f87be",
   "metadata": {},
   "outputs": [],
   "source": []
  }
 ],
 "metadata": {
  "kernelspec": {
   "display_name": "Python 3",
   "language": "python",
   "name": "python3"
  },
  "language_info": {
   "codemirror_mode": {
    "name": "ipython",
    "version": 3
   },
   "file_extension": ".py",
   "mimetype": "text/x-python",
   "name": "python",
   "nbconvert_exporter": "python",
   "pygments_lexer": "ipython3",
   "version": "3.8.8"
  }
 },
 "nbformat": 4,
 "nbformat_minor": 5
}
