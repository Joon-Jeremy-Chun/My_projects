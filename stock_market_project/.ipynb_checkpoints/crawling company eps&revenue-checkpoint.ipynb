{
 "cells": [
  {
   "cell_type": "markdown",
   "id": "a40d062d",
   "metadata": {},
   "source": [
    "## packages"
   ]
  },
  {
   "cell_type": "code",
   "execution_count": 1,
   "id": "295c7f8c",
   "metadata": {},
   "outputs": [],
   "source": [
    "from selenium import webdriver\n",
    "from bs4 import BeautifulSoup\n",
    "import requests\n",
    "import time\n",
    "import pandas as pd"
   ]
  },
  {
   "cell_type": "markdown",
   "id": "44f63acd",
   "metadata": {},
   "source": [
    "## define the URL and subjects"
   ]
  },
  {
   "cell_type": "code",
   "execution_count": 10,
   "id": "4bf381b9",
   "metadata": {},
   "outputs": [],
   "source": [
    "browser = webdriver.Chrome(\"C:/Myexam/chromedriver/chromedriver.exe\")\n",
    "url = \"https://www.investing.com/\"\n",
    "browser.get(url) "
   ]
  },
  {
   "cell_type": "code",
   "execution_count": 11,
   "id": "5e42351e",
   "metadata": {},
   "outputs": [
    {
     "name": "stdout",
     "output_type": "stream",
     "text": [
      "https://www.investing.com/equities/airbnb-inc-earnings\n",
      "저장이름 = ABNB-earnings.xlsx\n",
      "https://www.investing.com/equities/snowflake-inc-earnings\n",
      "저장이름 = SNOW-earnings.xlsx\n"
     ]
    }
   ],
   "source": [
    "time.sleep(3) \n",
    "search_subject = ['equities/airbnb-inc','equities/snowflake-inc', ] \n",
    "search_subject_abbreviation = ['ABNB','SNOW']\n",
    "search_objective = ['-earnings']\n",
    "\n",
    "for i in range(len(search_subject)) :\n",
    "           \n",
    "    for j in range(len(search_objective)) :\n",
    "        time.sleep(3) \n",
    "        finding = url+search_subject[i]+search_objective[j]\n",
    "        print(finding)\n",
    "        print('저장이름 =', '{0}{1}.xlsx'.format(search_subject_abbreviation[i],search_objective[j]))\n",
    "        browser.get(finding)\n",
    "       \n",
    "        "
   ]
  },
  {
   "cell_type": "code",
   "execution_count": 4,
   "id": "3d4a263e",
   "metadata": {},
   "outputs": [],
   "source": [
    "#  if browser.find_element_by_link_text('Show more') == True :\n",
    "#             browser.find_element_by_css_selector('.showMoreReplies.block').click()\n",
    "#         else :\n",
    "#             pass"
   ]
  },
  {
   "cell_type": "code",
   "execution_count": 5,
   "id": "1957e923",
   "metadata": {
    "scrolled": true
   },
   "outputs": [],
   "source": [
    "# a = 0\n",
    "# while browser.find_element_by_css_selector('.showMoreReplies.block').click() == True :\n",
    "#     a = a +1\n",
    "#     print(a)"
   ]
  },
  {
   "cell_type": "code",
   "execution_count": 6,
   "id": "3cc278ad",
   "metadata": {
    "scrolled": false
   },
   "outputs": [],
   "source": [
    "# a = 0\n",
    "# if a <= 2 :\n",
    "#     a = a + 1\n",
    "#     print(a)\n",
    "#     browser.find_element_by_css_selector('.showMoreReplies.block')"
   ]
  },
  {
   "cell_type": "code",
   "execution_count": 7,
   "id": "8ad1cd08",
   "metadata": {
    "scrolled": false
   },
   "outputs": [],
   "source": [
    "# a = browser.find_element_by_link_text('Show more') \n",
    "# bool(a)"
   ]
  },
  {
   "cell_type": "code",
   "execution_count": 8,
   "id": "2fba0d1e",
   "metadata": {},
   "outputs": [],
   "source": [
    "# a = browser.find_element_by_link_text('Show more') \n",
    "# if a == True :\n",
    "#     browser.find_element_by_css_selector('.showMoreReplies.block').click()\n",
    "# else :\n",
    "#     pass"
   ]
  },
  {
   "cell_type": "code",
   "execution_count": null,
   "id": "3e3922cf",
   "metadata": {},
   "outputs": [],
   "source": []
  }
 ],
 "metadata": {
  "kernelspec": {
   "display_name": "Python 3",
   "language": "python",
   "name": "python3"
  },
  "language_info": {
   "codemirror_mode": {
    "name": "ipython",
    "version": 3
   },
   "file_extension": ".py",
   "mimetype": "text/x-python",
   "name": "python",
   "nbconvert_exporter": "python",
   "pygments_lexer": "ipython3",
   "version": "3.8.8"
  }
 },
 "nbformat": 4,
 "nbformat_minor": 5
}
